{
 "cells": [
  {
   "cell_type": "code",
   "execution_count": 1,
   "metadata": {},
   "outputs": [],
   "source": [
    "import random\n",
    "#faltaría import emoji\n",
    "\n",
    "registro_usuarios = {}\n",
    "opciones_respuesta = [\"piedra\", \"papel\", \"tijera\"]  #Establecemos una variable para mostrar las diferentes opciones.   \n",
    "\n",
    "partidas_ganadas_usuario = 0\n",
    "partidas_perdidas_usuario = 0\n",
    "\n",
    "partidas_ganadas_maquina = 0\n",
    "partidas_perdidas_maquina = 0\n",
    "\n",
    "partidas_empatadas = 0\n",
    "partidas_jugadas = 0\n",
    "\n",
    "total_partidas = 2\n",
    "\n",
    "def init_registro(jugador, registro_usuarios):\n",
    "    for nombre in registro_usuarios:\n",
    "        registro_usuarios[\"nombre\"] == jugador\n",
    "        print(f\"Lo sentimos, ya has jugado tus tres partidas. No puedes volver a jugar... ¡La suerte ya está echada!\")\n",
    "    else:\n",
    "        nombre_jugador = input(\"Introduce tu nombre:\").capitalize()\n",
    "        registro_usuarios[nombre_jugador] = {partidas_ganadas_usuario: 0, partidas_empatadas: 0, partidas_perdidas_usuario: 0}\n",
    "    return registro_usuarios[nombre]\n",
    "\n",
    "def iniciar_juego():\n",
    "    respuesta_usuario = input(\"Elige piedra, papel o tijera. Introduce 'salir' para terminar el juego.\").lower()\n",
    "    while partidas_jugadas <= total_partidas:\n",
    "        if respuesta_usuario not in opciones_respuesta:\n",
    "            print(\"\\n Opción incorrecta. Elige una de las opciones disponibles: piedra, papel o tijera.\")\n",
    "        elif respuesta_usuario.lower() == \"salir\": # Establecemos la opción de “salir”, por lo que la equiparamos con la variable “respuesta_usuario” \n",
    "            break\n",
    "        elif respuesta_usuario.lower() in opciones_respuesta: # Establecemos aquellas condiciones en las que el usuario empata, gana o pierde la partida.\n",
    "            partidas_jugadas += 1 # Incluimos el contador que recoge el número total de partidas. En este juego la cantidad que suma en cada iteración es 1.\n",
    "            print(f\"\\n Es la partida número {partidas_jugadas}\")\n",
    "            print(f\"\\n Has elegido: {respuesta_usuario} y el oponente ha escogido {respuesta_maquina}.\")\n",
    "            if respuesta_usuario == respuesta_maquina: # Equiparamos las variables “respuesta_usuario” y “respuesta_maquina”, seguido del contador de “partidas_empatadas”.\n",
    "                partidas_empatadas +=1\n",
    "                print(\"---------------------------\")\n",
    "                print(f\"\\n ¡Empate! Lleváis {partidas_empatadas} partidas empatadas.\")\n",
    "                print(\"---------------------------\")\n",
    "            elif (respuesta_usuario == \"piedra\" and respuesta_maquina == \"tijera\") or (respuesta_usuario == \"papel\" and respuesta_maquina == \"piedra\") or (respuesta_usuario == \"tijera\" and respuesta_maquina == \"papel\"):\n",
    "                # En el caso de victoria del usuario contemplamos los diferentes escenarios en los que el usuario ganaría la partida, incluyendo las 3 opciones una por una.\n",
    "                partidas_ganadas_usuario += 1\n",
    "                print(\"---------------------------\")\n",
    "                print(f\"\\n ¡Has ganado! Llevas {partidas_ganadas_usuario} partidas ganadas.\") #Falta añadir resta: {partidas_jugadas} - {partidas_ganadas_maquina. Añadir partidas empatadas.\n",
    "                print(\"---------------------------\")\n",
    "            else: # Para no tener la necesidad de disponer las numerosas combinaciones de partidas ganadas o perdidas, establecemos en el “else” que el resto de posibilidades son las partidas ganadas por la computadora.\n",
    "                partidas_ganadas_maquina +=1\n",
    "                print(f\"\\n Has perdido. El ordenador ha ganado {partidas_ganadas_maquina} partidas.\")\n",
    "                print(\"---------------------------\")\n",
    "    print(f\"¡Bien jugado! Has ganado {partidas_ganadas_usuario} de {partidas_jugadas} partidas.\") # Para finalizar, printeamos un f-string con un recuento final de las partidas ganadas sobre las partidas jugadas.\n",
    "\n"
   ]
  }
 ],
 "metadata": {
  "kernelspec": {
   "display_name": "Python 3",
   "language": "python",
   "name": "python3"
  },
  "language_info": {
   "codemirror_mode": {
    "name": "ipython",
    "version": 3
   },
   "file_extension": ".py",
   "mimetype": "text/x-python",
   "name": "python",
   "nbconvert_exporter": "python",
   "pygments_lexer": "ipython3",
   "version": "3.9.6"
  }
 },
 "nbformat": 4,
 "nbformat_minor": 2
}
