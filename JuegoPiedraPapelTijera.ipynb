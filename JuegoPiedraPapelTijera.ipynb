{
 "cells": [
  {
   "cell_type": "markdown",
   "metadata": {},
   "source": [
    "1. Comienza por definir el número de puntos objetivo que se deben alcanzar para ganar el juego.\n",
    "\n",
    "    2. Implementa una función que obtenga la elección del jugador y valide que sea una de las opciones válidas (\"Piedra\", \"Papel\" o \"Tijera\").\n",
    "\n",
    "    3. Utiliza un bucle `while` para llevar un registro de los puntos de cada jugador y continuar el juego hasta que se alcance el número de puntos objetivo.\n",
    "\n",
    "    4. Genera una elección aleatoria para el segundo jugador (la computadora) utilizando el módulo `random`.\n",
    "\n",
    "    5. Determina al ganador de cada ronda y actualiza los puntos correspondientes.\n",
    "\n",
    "    6. Verifica si algún jugador ha alcanzado el número de puntos objetivo y finalicen el juego cuando eso suceda."
   ]
  },
  {
   "cell_type": "markdown",
   "metadata": {},
   "source": [
    "## Objetivo"
   ]
  },
  {
   "cell_type": "code",
   "execution_count": null,
   "metadata": {},
   "outputs": [],
   "source": [
    "# El objetivo del jugador es ganar 7 partidas de 3, contra la máquina."
   ]
  },
  {
   "cell_type": "code",
   "execution_count": null,
   "metadata": {},
   "outputs": [],
   "source": []
  },
  {
   "cell_type": "code",
   "execution_count": 8,
   "metadata": {},
   "outputs": [
    {
     "name": "stdout",
     "output_type": "stream",
     "text": [
      "\n",
      " Has elegido: piedra y el oponente ha escogido papel. Es la partida número 1\n",
      "\n",
      " Has perdido. El ordenador ha ganado 1 partidas.\n",
      "\n",
      " Has elegido: papel y el oponente ha escogido piedra. Es la partida número 2\n",
      "\n",
      " ¡Has ganado! Llevas 1 partidas ganadas.\n",
      "\n",
      " Has elegido: tijera y el oponente ha escogido tijera. Es la partida número 3\n",
      "\n",
      " ¡Empate! Lleváis 1 partidas empatadas.\n",
      "\n",
      " Has elegido: papel y el oponente ha escogido tijera. Es la partida número 4\n",
      "\n",
      " Has perdido. El ordenador ha ganado 2 partidas.\n",
      "\n",
      " Has elegido: papel y el oponente ha escogido piedra. Es la partida número 5\n",
      "\n",
      " ¡Has ganado! Llevas 2 partidas ganadas.\n"
     ]
    }
   ],
   "source": [
    "import random\n",
    "\n",
    "opciones_respuesta = [\"piedra\", \"papel\", \"tijera\"]\n",
    "partidas_jugadas = 0\n",
    "partidas_ganadas_usuario = 0\n",
    "partidas_ganadas_maquina = 0\n",
    "partidas_empatadas = 0\n",
    "total_partidas = 4\n",
    "\n",
    "while partidas_jugadas <= total_partidas:\n",
    "    respuesta_usuario = input(\"Elige piedra, papel o tijera. Introduce 'salir' para terminar el juego.\")\n",
    "    respuesta_maquina = random.choice(opciones_respuesta)\n",
    "    if respuesta_usuario.lower() == \"salir\":\n",
    "        break\n",
    "    elif respuesta_usuario.lower() not in opciones_respuesta:\n",
    "        print(\"\\n Opción incorrecta. Elige una de las opciones disponibles.\")\n",
    "    elif respuesta_usuario.lower() in opciones_respuesta:\n",
    "        partidas_jugadas += 1\n",
    "        print(f\"\\n Has elegido: {respuesta_usuario} y el oponente ha escogido {respuesta_maquina}. Es la partida número {partidas_jugadas}\")\n",
    "        if respuesta_usuario == respuesta_maquina:\n",
    "            partidas_empatadas +=1\n",
    "            print(f\"\\n ¡Empate! Lleváis {partidas_empatadas} partidas empatadas.\")\n",
    "        elif (respuesta_usuario == \"piedra\" and respuesta_maquina == \"tijera\") or (respuesta_usuario == \"papel\" and respuesta_maquina == \"piedra\") or (respuesta_usuario == \"tijera\" and respuesta_maquina == \"papel\"):\n",
    "            partidas_ganadas_usuario += 1\n",
    "            print(f\"\\n ¡Has ganado! Llevas {partidas_ganadas_usuario} partidas ganadas.\") #Falta añadir resta: {partidas_jugadas} - {partidas_ganadas_maquina. Añadir partidas empatadas.\n",
    "        else:\n",
    "            partidas_ganadas_maquina +=1\n",
    "            print(f\"\\n Has perdido. El ordenador ha ganado {partidas_ganadas_maquina} partidas.\")\n",
    "\n"
   ]
  },
  {
   "cell_type": "code",
   "execution_count": null,
   "metadata": {},
   "outputs": [],
   "source": []
  }
 ],
 "metadata": {
  "kernelspec": {
   "display_name": "Python 3",
   "language": "python",
   "name": "python3"
  },
  "language_info": {
   "codemirror_mode": {
    "name": "ipython",
    "version": 3
   },
   "file_extension": ".py",
   "mimetype": "text/x-python",
   "name": "python",
   "nbconvert_exporter": "python",
   "pygments_lexer": "ipython3",
   "version": "3.9.6"
  }
 },
 "nbformat": 4,
 "nbformat_minor": 2
}
