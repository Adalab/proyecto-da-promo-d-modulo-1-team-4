{
 "cells": [
  {
   "cell_type": "markdown",
   "metadata": {},
   "source": [
    "1. Comienza por definir el número de puntos objetivo que se deben alcanzar para ganar el juego.\n",
    "\n",
    "    2. Implementa una función que obtenga la elección del jugador y valide que sea una de las opciones válidas (\"Piedra\", \"Papel\" o \"Tijera\").\n",
    "\n",
    "    3. Utiliza un bucle `while` para llevar un registro de los puntos de cada jugador y continuar el juego hasta que se alcance el número de puntos objetivo.\n",
    "\n",
    "    4. Genera una elección aleatoria para el segundo jugador (la computadora) utilizando el módulo `random`.\n",
    "\n",
    "    5. Determina al ganador de cada ronda y actualiza los puntos correspondientes.\n",
    "\n",
    "    6. Verifica si algún jugador ha alcanzado el número de puntos objetivo y finalicen el juego cuando eso suceda."
   ]
  },
  {
   "cell_type": "markdown",
   "metadata": {},
   "source": [
    "## Objetivo"
   ]
  },
  {
   "cell_type": "code",
   "execution_count": null,
   "metadata": {},
   "outputs": [],
   "source": [
    "# El objetivo del jugador es ganar 7 partidas de 3, contra la máquina."
   ]
  },
  {
   "cell_type": "code",
   "execution_count": null,
   "metadata": {},
   "outputs": [],
   "source": []
  },
  {
   "cell_type": "code",
   "execution_count": null,
   "metadata": {},
   "outputs": [],
   "source": [
    "import random\n",
    "import emoji\n",
    "\n",
    "opciones_respuesta = [\"piedra\", \"papel\", \"tijera\"]\n",
    "partidas_jugadas = 0\n",
    "partidas_ganadas_usuario = 0\n",
    "partidas_ganadas_maquina = 0\n",
    "partidas_empatadas = 0\n",
    "total_partidas = 2\n",
    "\n",
    "nombre_usuario = input(\"Introduce tu nombre:\")\n",
    "print(f\"¡Hola! {nombre_usuario} \\U0001F600\")\n",
    "print(\"Hasta ahora eras tu el que cumplia los sueños de tus viajeros, ahora nos toca a nosotros cumplir el viaje de tus sueños\")\n",
    "print(\"Piedra, papel, tijera y vuela!!!\")\n",
    "print(\"¡Vamos a volar! ✈️\")\n",
    "print(\"---------------------------\")\n",
    "\n",
    "while partidas_jugadas <= total_partidas:\n",
    "    respuesta_usuario = input(\"Elige piedra, papel o tijera. Introduce 'salir' para terminar el juego.\")\n",
    "    respuesta_maquina = random.choice(opciones_respuesta)\n",
    "    if respuesta_usuario.lower() == \"salir\":\n",
    "        break\n",
    "    elif respuesta_usuario.lower() not in opciones_respuesta:\n",
    "        print(\"\\n Opción incorrecta. Elige una de las opciones disponibles.\")\n",
    "    elif respuesta_usuario.lower() in opciones_respuesta:\n",
    "        partidas_jugadas += 1\n",
    "        print(f\"\\n Es la partida número {partidas_jugadas}\")\n",
    "        print(f\"\\n Has elegido: {respuesta_usuario} y el oponente ha escogido {respuesta_maquina}.\")\n",
    "        if respuesta_usuario == respuesta_maquina:\n",
    "            partidas_empatadas +=1\n",
    "            print(\"---------------------------\")\n",
    "            print(f\"\\n ¡Empate! Lleváis {partidas_empatadas} partidas empatadas.\")\n",
    "            print(\"---------------------------\")\n",
    "        elif (respuesta_usuario == \"piedra\" and respuesta_maquina == \"tijera\") or (respuesta_usuario == \"papel\" and respuesta_maquina == \"piedra\") or (respuesta_usuario == \"tijera\" and respuesta_maquina == \"papel\"):\n",
    "            partidas_ganadas_usuario += 1\n",
    "            print(\"---------------------------\")\n",
    "            print(f\"\\n ¡Has ganado! Llevas {partidas_ganadas_usuario} partidas ganadas.\") #Falta añadir resta: {partidas_jugadas} - {partidas_ganadas_maquina. Añadir partidas empatadas.\n",
    "            print(\"---------------------------\")\n",
    "        else:\n",
    "            partidas_ganadas_maquina +=1\n",
    "            print(f\"\\n Has perdido. El ordenador ha ganado {partidas_ganadas_maquina} partidas.\")\n",
    "            print(\"---------------------------\")\n",
    "print(f\"Bien jugado! Has ganado {partidas_ganadas_usuario} de {partidas_jugadas} partidas.\")\n",
    "\n",
    "\n"
   ]
  }
 ],
 "metadata": {
  "kernelspec": {
   "display_name": "Python 3",
   "language": "python",
   "name": "python3"
  },
  "language_info": {
   "codemirror_mode": {
    "name": "ipython",
    "version": 3
   },
   "file_extension": ".py",
   "mimetype": "text/x-python",
   "name": "python",
   "nbconvert_exporter": "python",
   "pygments_lexer": "ipython3",
   "version": "3.9.6"
  }
 },
 "nbformat": 4,
 "nbformat_minor": 2
}
