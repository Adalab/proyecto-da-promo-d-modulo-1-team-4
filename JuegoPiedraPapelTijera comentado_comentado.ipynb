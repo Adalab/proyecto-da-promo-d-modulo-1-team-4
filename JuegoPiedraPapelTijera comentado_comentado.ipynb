{
 "cells": [
  {
   "cell_type": "markdown",
   "metadata": {},
   "source": [
    "1. Comienza por definir el número de puntos objetivo que se deben alcanzar para ganar el juego.\n",
    "\n",
    "    2. Implementa una función que obtenga la elección del jugador y valide que sea una de las opciones válidas (\"Piedra\", \"Papel\" o \"Tijera\").\n",
    "\n",
    "    3. Utiliza un bucle `while` para llevar un registro de los puntos de cada jugador y continuar el juego hasta que se alcance el número de puntos objetivo.\n",
    "\n",
    "    4. Genera una elección aleatoria para el segundo jugador (la computadora) utilizando el módulo `random`.\n",
    "\n",
    "    5. Determina al ganador de cada ronda y actualiza los puntos correspondientes.\n",
    "\n",
    "    6. Verifica si algún jugador ha alcanzado el número de puntos objetivo y finalicen el juego cuando eso suceda."
   ]
  },
  {
   "cell_type": "markdown",
   "metadata": {},
   "source": [
    "## Objetivo"
   ]
  },
  {
   "cell_type": "code",
   "execution_count": null,
   "metadata": {},
   "outputs": [],
   "source": [
    "# El objetivo del jugador es ganar 7 partidas de 3, contra la máquina."
   ]
  },
  {
   "cell_type": "code",
   "execution_count": null,
   "metadata": {},
   "outputs": [],
   "source": []
  },
  {
   "cell_type": "code",
   "execution_count": null,
   "metadata": {},
   "outputs": [],
   "source": [
    "import random # Importamos la biblioteca “random” que luego vamos a aplicar a través de la función “random.choice()” para permitir que la computadora elija una de las opciones de manera aleatoria\n",
    "import emoji # Importamos la biblioteca “random” que luego vamos a aplicar a través de la función “random.choice()” para permitir que la computadora elija una de las opciones de manera aleatoria\n",
    "\n",
    "# Además, definimos las distintas variables que vamos a usar a lo largo del código.\n",
    "# Establecemos una variable para mostrar las diferentes opciones.\n",
    "# Seguida de otras variables que funcionan a modo de contador o sumatorio de las partidas que se van jugando, clasificándolas según su resultado.\n",
    "# La ultima variable “total_partidas” la usaremos para crear la condición con la que se rompe el bucle “while”.\n",
    "\n",
    "opciones_respuesta = [\"piedra\", \"papel\", \"tijera\"]  #Establecemos una variable para mostrar las diferentes opciones.\n",
    "partidas_jugadas = 0     \n",
    "partidas_ganadas_usuario = 0\n",
    "partidas_ganadas_maquina = 0\n",
    "partidas_empatadas = 0\n",
    "total_partidas = 2    # La usaremos para crear la condición con la que se rompe el bucle “while”.\n",
    "\n",
    "nombre_usuario = input(\"Introduce tu nombre:\") # A través de la variable “nombre_usuario” pedimos el nombre para personalizar la exèriencia.\n",
    "print(f\"¡Hola! {nombre_usuario} \\U0001F600\")\n",
    "print(\"Hasta ahora eras tu el que cumplia los sueños de tus viajeros, ahora nos toca a nosotros cumplir el viaje de tus sueños\")\n",
    "print(\"Piedra, papel, tijera y vuela!!!\")\n",
    "print(\"¡Vamos a volar! ✈️\")\n",
    "print(\"---------------------------\")\n",
    "# Además printeamos unas líneas a modo de historia para otorgarle de más realismo\n",
    "\n",
    "while partidas_jugadas <= total_partidas:  # Abrimos con un bucle “while” que equiparamos al total de partidas que vamos a jugar, creando una salida al bucle.\n",
    "    respuesta_usuario = input(\"Elige piedra, papel o tijera. Introduce 'salir' para terminar el juego.\") # Definimos las respuestas del usuario a través de la variable “respuesta_usuario”, compuesto de un “input”\n",
    "    respuesta_maquina = random.choice(opciones_respuesta) # Definimos las respuestas de la computadora a través de la variable “respuesta_maquina”, compuesta de la función “random.choice()” que hemos comentado anteriormente. \n",
    "    if respuesta_usuario.lower() == \"salir\": # Establecemos la opción de “salir”, por lo que la equiparamos con la variable “respuesta_usuario” \n",
    "        break # Si el usuario escribe “salir” el bucle entra en esta condición, y, al estar seguida de “break”, cesaría y el código acabaría en este punto.\n",
    "    elif respuesta_usuario.lower() not in opciones_respuesta: # Utilizamos “not in” para establecer la condición en la que el usuario introduce una opción que no está entre las contempladas en la variable.\n",
    "        print(\"\\n Opción incorrecta. Elige una de las opciones disponibles.\")\n",
    "    elif respuesta_usuario.lower() in opciones_respuesta: # Establecemos aquellas condiciones en las que el usuario empata, gana o pierde la partida.\n",
    "        partidas_jugadas += 1 # Incluimos el contador que recoge el número total de partidas. En este juego la cantidad que suma en cada iteración es 1.\n",
    "        print(f\"\\n Es la partida número {partidas_jugadas}\")\n",
    "        print(f\"\\n Has elegido: {respuesta_usuario} y el oponente ha escogido {respuesta_maquina}.\")\n",
    "        if respuesta_usuario == respuesta_maquina: # Equiparamos las variables “respuesta_usuario” y “respuesta_maquina”, seguido del contador de “partidas_empatadas”.\n",
    "            partidas_empatadas +=1\n",
    "            print(\"---------------------------\")\n",
    "            print(f\"\\n ¡Empate! Lleváis {partidas_empatadas} partidas empatadas.\")\n",
    "            print(\"---------------------------\")\n",
    "        elif (respuesta_usuario == \"piedra\" and respuesta_maquina == \"tijera\") or (respuesta_usuario == \"papel\" and respuesta_maquina == \"piedra\") or (respuesta_usuario == \"tijera\" and respuesta_maquina == \"papel\"):\n",
    "            # En el caso de victoria del usuario contemplamos los diferentes escenarios en los que el usuario ganaría la partida, incluyendo las 3 opciones una por una.\n",
    "            partidas_ganadas_usuario += 1\n",
    "            print(\"---------------------------\")\n",
    "            print(f\"\\n ¡Has ganado! Llevas {partidas_ganadas_usuario} partidas ganadas.\") #Falta añadir resta: {partidas_jugadas} - {partidas_ganadas_maquina. Añadir partidas empatadas.\n",
    "            print(\"---------------------------\")\n",
    "        else: # Para no tener la necesidad de disponer las numerosas combinaciones de partidas ganadas o perdidas, establecemos en el “else” que el resto de posibilidades son las partidas ganadas por la computadora.\n",
    "            partidas_ganadas_maquina +=1\n",
    "            print(f\"\\n Has perdido. El ordenador ha ganado {partidas_ganadas_maquina} partidas.\")\n",
    "            print(\"---------------------------\")\n",
    "print(f\"Bien jugado! Has ganado {partidas_ganadas_usuario} de {partidas_jugadas} partidas.\") # Para finalizar, printeamos un f-string con un recuento final de las partidas ganadas sobre las partidas jugadas.\n",
    "\n",
    "\n"
   ]
  }
 ],
 "metadata": {
  "kernelspec": {
   "display_name": "Python 3",
   "language": "python",
   "name": "python3"
  },
  "language_info": {
   "codemirror_mode": {
    "name": "ipython",
    "version": 3
   },
   "file_extension": ".py",
   "mimetype": "text/x-python",
   "name": "python",
   "nbconvert_exporter": "python",
   "pygments_lexer": "ipython3",
   "version": "3.9.6"
  }
 },
 "nbformat": 4,
 "nbformat_minor": 2
}
